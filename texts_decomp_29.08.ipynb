{
 "cells": [
  {
   "cell_type": "code",
   "execution_count": null,
   "metadata": {
    "colab": {
     "base_uri": "https://localhost:8080/",
     "height": 121
    },
    "colab_type": "code",
    "id": "YsdcLZAG-Reu",
    "outputId": "7ce333ac-d14c-4932-da23-38acf6a04775"
   },
   "outputs": [
    {
     "name": "stdout",
     "output_type": "stream",
     "text": [
      "Go to this URL in a browser: https://accounts.google.com/o/oauth2/auth?client_id=947318989803-6bn6qk8qdgf4n4g3pfee6491hc0brc4i.apps.googleusercontent.com&redirect_uri=urn%3aietf%3awg%3aoauth%3a2.0%3aoob&scope=email%20https%3a%2f%2fwww.googleapis.com%2fauth%2fdocs.test%20https%3a%2f%2fwww.googleapis.com%2fauth%2fdrive%20https%3a%2f%2fwww.googleapis.com%2fauth%2fdrive.photos.readonly%20https%3a%2f%2fwww.googleapis.com%2fauth%2fpeopleapi.readonly&response_type=code\n",
      "\n",
      "Enter your authorization code:\n",
      "··········\n",
      "Mounted at /content/drive\n"
     ]
    }
   ],
   "source": [
    "from google.colab import drive\n",
    "drive.mount('/content/drive')"
   ]
  },
  {
   "cell_type": "code",
   "execution_count": 1,
   "metadata": {
    "colab": {},
    "colab_type": "code",
    "id": "o3n6uhlgA0Oa"
   },
   "outputs": [],
   "source": [
    "import numpy as np "
   ]
  },
  {
   "cell_type": "code",
   "execution_count": 2,
   "metadata": {
    "colab": {
     "base_uri": "https://localhost:8080/",
     "height": 195
    },
    "colab_type": "code",
    "id": "hMx73Gcp-DrQ",
    "outputId": "0cfeeeb3-60d0-4776-a046-244f8da990c4",
    "scrolled": true
   },
   "outputs": [
    {
     "data": {
      "text/html": [
       "<div>\n",
       "<style scoped>\n",
       "    .dataframe tbody tr th:only-of-type {\n",
       "        vertical-align: middle;\n",
       "    }\n",
       "\n",
       "    .dataframe tbody tr th {\n",
       "        vertical-align: top;\n",
       "    }\n",
       "\n",
       "    .dataframe thead th {\n",
       "        text-align: right;\n",
       "    }\n",
       "</style>\n",
       "<table border=\"1\" class=\"dataframe\">\n",
       "  <thead>\n",
       "    <tr style=\"text-align: right;\">\n",
       "      <th></th>\n",
       "      <th>Raw</th>\n",
       "      <th>Processed</th>\n",
       "    </tr>\n",
       "  </thead>\n",
       "  <tbody>\n",
       "    <tr>\n",
       "      <td>0</td>\n",
       "      <td>Отпуск 2020. Крым. Судак. Новый Свет.  Феодосия.</td>\n",
       "      <td>отпуск 2020 крым судак новый свет феодосий</td>\n",
       "    </tr>\n",
       "    <tr>\n",
       "      <td>1</td>\n",
       "      <td>Г-гордость❣️ я очень довольна результатом. Оче...</td>\n",
       "      <td>год гордость очень довольный результат очень д...</td>\n",
       "    </tr>\n",
       "    <tr>\n",
       "      <td>2</td>\n",
       "      <td>Лето, август, отпуск,  но не у меня.  В период...</td>\n",
       "      <td>лето август отпуск не_у период отпуск добавлят...</td>\n",
       "    </tr>\n",
       "    <tr>\n",
       "      <td>3</td>\n",
       "      <td>Отпуск-2020. Никакого Лазурного берега, сплошн...</td>\n",
       "      <td>отпуск 2020 никакой лазурный берег сплошной ру...</td>\n",
       "    </tr>\n",
       "    <tr>\n",
       "      <td>4</td>\n",
       "      <td>Мой отпуск на море\\n#бугазскаякоса #море #солц...</td>\n",
       "      <td>отпуск мор бугазскаякос мор солца отпуск отдых...</td>\n",
       "    </tr>\n",
       "  </tbody>\n",
       "</table>\n",
       "</div>"
      ],
      "text/plain": [
       "                                                 Raw  \\\n",
       "0   Отпуск 2020. Крым. Судак. Новый Свет.  Феодосия.   \n",
       "1  Г-гордость❣️ я очень довольна результатом. Оче...   \n",
       "2  Лето, август, отпуск,  но не у меня.  В период...   \n",
       "3  Отпуск-2020. Никакого Лазурного берега, сплошн...   \n",
       "4  Мой отпуск на море\\n#бугазскаякоса #море #солц...   \n",
       "\n",
       "                                           Processed  \n",
       "0         отпуск 2020 крым судак новый свет феодосий  \n",
       "1  год гордость очень довольный результат очень д...  \n",
       "2  лето август отпуск не_у период отпуск добавлят...  \n",
       "3  отпуск 2020 никакой лазурный берег сплошной ру...  \n",
       "4  отпуск мор бугазскаякос мор солца отпуск отдых...  "
      ]
     },
     "execution_count": 2,
     "metadata": {},
     "output_type": "execute_result"
    }
   ],
   "source": [
    "# Загрузка текста\n",
    "import pandas as pd \n",
    "texts = pd.read_excel(\"texts_cluster.xlsx\")\n",
    "texts.head(5)"
   ]
  },
  {
   "cell_type": "code",
   "execution_count": 3,
   "metadata": {
    "colab": {},
    "colab_type": "code",
    "id": "_vpl38H--DsF"
   },
   "outputs": [],
   "source": [
    "text = list(texts.Processed)\n",
    "text_raw = list(texts.Raw)"
   ]
  },
  {
   "cell_type": "code",
   "execution_count": 4,
   "metadata": {
    "colab": {},
    "colab_type": "code",
    "id": "2wwUnUEW_QKn"
   },
   "outputs": [],
   "source": [
    "# from sklearn.feature_extraction.text import CountVectorizer\n",
    "# def lemma_tokenizer(text):\n",
    "#     standard_tokenizer = CountVectorizer().build_tokenizer()\n",
    "#     tokens = standard_tokenizer(text)\n",
    "#     lemmatizer = nltk.stem.WordNetLemmatizer()\n",
    "#     lemma_tokens=[]\n",
    "#     for token in tokens:\n",
    "#         if re.search('[a-zA-Z]', token): \n",
    "#             lemma_tokens.append(lemmatizer.lemmatize(token))\n",
    "#     return lemma_tokens"
   ]
  },
  {
   "cell_type": "markdown",
   "metadata": {
    "colab_type": "text",
    "id": "xTm56jSS-DsP"
   },
   "source": [
    "в TfidfVectorizer() выстави max_df не числом документов, а долей от общего числа, например 0.75 \n",
    "в TruncatedSVD() подбирай размерность матрицы (n_components) так, чтобы объясняемая дисперсия была около 0.8. Это можно проверять с помощью метода svd.explained_variance_ratio_.sum()"
   ]
  },
  {
   "cell_type": "code",
   "execution_count": 4,
   "metadata": {
    "colab": {},
    "colab_type": "code",
    "id": "bppwjFK-_JZy"
   },
   "outputs": [],
   "source": [
    "# tf-idf \n",
    "from sklearn.feature_extraction.text import TfidfVectorizer\n",
    "import nltk \n",
    "import re \n",
    "\n",
    "# выберем н-граммы до 3 слов \n",
    "vectorizer_3 = TfidfVectorizer(min_df=5, max_df = 0.75, ngram_range=(1,3)) \n",
    "vectorizer = TfidfVectorizer(max_df = 0.75, min_df = 5)\n",
    "\n",
    "# фитим векторайзер к документам \n",
    "matrix_3 = vectorizer_3.fit_transform(text)\n",
    "matrix = vectorizer.fit_transform(text)"
   ]
  },
  {
   "cell_type": "code",
   "execution_count": 5,
   "metadata": {
    "colab": {},
    "colab_type": "code",
    "id": "HSKUm5BsyBR_"
   },
   "outputs": [
    {
     "data": {
      "text/plain": [
       "(33183, 13954)"
      ]
     },
     "execution_count": 5,
     "metadata": {},
     "output_type": "execute_result"
    }
   ],
   "source": [
    "matrix.shape"
   ]
  },
  {
   "cell_type": "code",
   "execution_count": null,
   "metadata": {
    "colab": {},
    "colab_type": "code",
    "id": "Nvdxb9-YClHQ"
   },
   "outputs": [],
   "source": [
    "terms = vectorizer.get_feature_names()"
   ]
  },
  {
   "cell_type": "code",
   "execution_count": null,
   "metadata": {
    "colab": {
     "base_uri": "https://localhost:8080/",
     "height": 54
    },
    "colab_type": "code",
    "id": "KHxP6AEdCmmO",
    "outputId": "7944240b-1f64-4b5e-b9cc-e6e54f8821a9"
   },
   "outputs": [
    {
     "name": "stdout",
     "output_type": "stream",
     "text": [
      "['000', '08_10', '08_14', '100', '1000', '101', '107', '110', '1100', '112', '113', '120', '1200', '121', '123', '1234', '124', '125', '130', '140', '1400', '150', '1500', '156', '160', '1600', '170', '180', '1800', '190', '1900', '1940', '1942', '1991', '1го', '200', '2000', '2002', '2003', '2004', '2005', '2006', '2008', '2009', '2010', '2011', '2012', '2013', '2014', '2015', '2016', '2017', '2018', '2019', '2019г', '2020', '2020г', '2020год', '2021', '2022', '2200', '2320', '250', '2500', '2700', '280', '2800', '2кг', '2ой', '300', '3000', '30тысяча', '3200', '333', '350', '3500', '360', '365', '3го', '3год', '400', '4000', '407', '421', '450', '4500', '500', '5000', '5кг', '600', '6000', '6500', '700', '7000', '800', '888', '900', '903', '906', '911', '914', '916', '923', '928', '92днялето', '931', '932', '953', '981', '_края', 'about', 'act', 'adler', 'adventure', 'aesthetic', 'after', 'air', 'airbnb', 'airlines', 'airtouch', 'alex', 'all', 'altay', 'amazing', 'anapa', 'anapa2020', 'and', 'andrey', 'anex', 'anextour', 'animals', 'anna', 'app', 'apple', 'architecture', 'are', 'arkhyz', 'art', 'artist', 'artwork', 'astrakhan', 'astrakhan_people', 'august', 'august_2020', 'auto', 'autotrip', 'awesome', 'baby', 'back', 'baikal', 'beach', 'beachanapa', 'beautiful', 'beautifulday', 'beautifulgirls', 'beauty', 'behappy', 'belarus', 'belgorod', 'best', 'bestoftheday', 'big', 'black', 'blacksea', 'blog', 'blogger', 'blonde', 'blue', 'blythe', 'blythecustom', 'body', 'bodybuilding', 'book', 'booking', 'boy', 'brow', 'bts', 'bts_twt', 'budet', 'building', 'but', 'cake', 'can', 'canon', 'canonphotography', 'car', 'cat', 'catlover', 'cats', 'catsofinstagram', 'character', 'chelyabinsk', 'chihuahua', 'children', 'chill', 'chillout', 'city', 'clouds', 'club', 'coffee', 'coffeetime', 'color', 'colorful', 'colors', 'com', 'come', 'comment', 'comments', 'cool', 'coraltravel', 'coronavirus', 'cosplay', 'country', 'countryside', 'covid', 'covid19', 'covid_19', 'crazy', 'crimea', 'crochet', 'crossstitch', 'cute', 'dance', 'day', 'design', 'digital', 'digitalart', 'direct', 'dmitry', 'dog', 'doglovers', 'dogs', 'dogsofinstagram', 'dolls', 'done', 'draw', 'drawing', 'dream', 'during', 'dzuki', 'eat', 'editor', 'ekaterina', 'ekaterinburg', 'ekb', 'elena', 'embroidery', 'end', 'english', 'enjoy', 'evening', 'eyes', 'f4f', 'face', 'facebook', 'fam', 'family', 'familytime', 'fareast_russia', 'fashion', 'findpost', 'fish', 'fishing', 'fit', 'fitness', 'flatlay', 'flowers', 'flowerstagram', 'fly', 'follow', 'follow4follow', 'follow4followback', 'followers', 'followforfollow', 'followforfollowback', 'followforlike', 'followme', 'followｍe', 'food', 'for', 'forest', 'forever', 'foreveryourgirl', 'forum', 'foto', 'fotografia', 'france', 'free', 'freedom', 'friends', 'from', 'fun', 'garden', 'garyanovpavel', 'gelendzhik', 'gerl', 'get', 'getty', 'gif', 'girl', 'girls', 'going', 'gold', 'good', 'goodday', 'goodmorning', 'goodtime', 'google', 'gopro', 'gotokamchatka', 'grand', 'great', 'greece', 'green', 'greenway', 'guess', 'guessclock', 'hair', 'hairstyle', 'handmade', 'happiness', 'happinessisinthelittlethings', 'happy', 'happybirthday', 'happyday', 'happymoments', 'happyness', 'happytime', 'happyweekend', 'harleydavidson', 'have', 'heart', 'hello', 'hiking', 'history', 'holiday', 'holidays', 'home', 'homesweethome', 'hot', 'hotel', 'house', 'html', 'humor', 'igers', 'iii', 'illustration', 'ilovemylife', 'images', 'inclusive', 'index', 'info', 'inspiration', 'insta', 'instadaily', 'instadog', 'instafamous', 'instafoto', 'instagirls', 'instagood', 'instagram', 'instagramanet', 'instalife', 'instalike', 'instalikes', 'instaman', 'instamoment', 'instamood', 'instapetersburg', 'instaphoto', 'instasummer', 'instatag', 'instatravel', 'iphone', 'irina', 'irkutsk', 'island', 'italy', 'itsmylife', 'job', 'journey', 'jul', 'julia', 'july', 'july2020', 'june', 'just', 'kaliningrad', 'kaliningradlife', 'kaluga', 'kamchatka', 'karelia', 'kazan', 'kemerovo', 'khabarovsk', 'khv', 'khv27', 'kids', 'knit', 'knitting', 'know', 'kochetkov', 'koktebel', 'konstantin', 'krasnodar', 'krasnodarskiykray', 'krutov57', 'krutova_family', 'kzn', 'l4l', 'l4like', 'l_lab_belgorod', 'labrador', 'lada', 'lady', 'lake', 'landscape', 'landscape_russia', 'landscapephotography', 'lash', 'lashes', 'last', 'life', 'lifeisbeautiful', 'lifeisgood', 'lifestyle', 'lifeвкайф', 'light', 'lightroom', 'like', 'like4follow', 'like4like', 'like4likes', 'likeback', 'likebackteam', 'liked', 'likeforfollow', 'likeforlike', 'likeforlikes', 'likelike', 'likeme', 'liker', 'likes', 'likes4like', 'likes4likes', 'likesforfollow', 'likesforlike', 'likesforlikes', 'liketeam', 'liketime', 'liking', 'lipetsk', 'littlegirl', 'live', 'loft', 'look', 'looking', 'love', 'loveguess', 'loveislove', 'lovelife', 'lovely', 'lovemylife', 'lovenature', 'loverussia', 'lovestory', 'lpg', 'magic', 'mail', 'make', 'makeup', 'makskrutak', 'mama', 'man', 'manicure', 'mare', 'max', 'media', 'mediahunter', 'memories', 'men', 'menstyle', 'mihaylistaya', 'mikhaylova', 'minsk', 'mobilephotography', 'model', 'modeling', 'mom', 'moment', 'moments', 'mood', 'mood_', 'more', 'moresea', 'morning', 'moscow', 'moscowcity', 'moskow', 'mother', 'mothernature', 'motivation', 'mountain', 'mountains', 'mua', 'muah', 'music', 'mycity', 'myfamily', 'mylife', 'mylive', 'mylove', 'mystyle', 'mysummer', 'nail', 'nails', 'natalia', 'natgeoru', 'nature', 'nature_perfection', 'naturelover', 'naturelovers', 'natureofrussiaru', 'naturephotography', 'net', 'new', 'new_me', 'news', 'nice', 'night', 'nikon', 'nizhniynovgorod', 'nnov', 'nofilter', 'non', 'novosibirsk', 'now', 'nsk', 'nsk54', 'oblast', 'ocean', 'odessa', 'oldtown', 'olga', 'one', 'onelove', 'online', 'out', 'outdoors', 'over', 'page', 'paint', 'painting', 'parents', 'park', 'party', 'people', 'petersburg', 'pets', 'photo', 'photoeveryday', 'photographer', 'photography', 'photooftheday', 'photorussia', 'photosession', 'photoshoot', 'php', 'pic', 'picoftheday', 'picture', 'pid', 'pisateltanya', 'piter', 'pixabay', 'plans', 'portrait', 'post', 'pretty', 'prilaga', 'primorye', 'pro', 'procreate', 'profile', 'pskov', 'quarantine', 'rain', 'rainbow', 'red', 'redhair', 'redirect', 'relax', 'relaxtime', 'repost', 'resort', 'rest', 'right', 'river', 'road', 'rock', 'rose', 'roses', 'rostov', 'rostovondon', 'rus', 'russia', 'russia_global', 'russian', 'russiangirl', 'saintpetersburg', 'sakhalin', 'samara', 'sammer', 'sanktpeterburg', 'saparovatravel', 'sapp', 'saratov', 'sea', 'seaanapa', 'seaside', 'see', 'selfie', 'selfiekaliningrad', 'sergey', 'sexy', 'sh_katerina', 'shop', 'showmerussia', 'showthread', 'siberia', 'sketch', 'sketchbook', 'sky', 'skypark', 'smile', 'smm', 'sms', 'snapseed', 'sochi', 'sochi2020', 'sochifornia', 'sommer', 'son', 'soon', 'spa', 'spb', 'spf', 'spf50', 'sport', 'sportgirl', 'started', 'staycation', 'stayhome', 'stop', 'stories', 'storm', 'stpetersburg', 'streetphotography', 'streetstyle', 'studio', 'style', 'summer', 'summer2020', 'summer_2020', 'summerday', 'summertime', 'summervibes', 'sun', 'sunday', 'sunny', 'sunnyday', 'sunrise', 'sunset', 'sunshine', 'sup', 'superjob', 'surf', 'swag', 'sweet', 'sweethome', 'swimming', 'tagsforlikes', 'tapatalk', 'tatarstan', 'tatoogirl', 'tattoo', 'tbt', 'telegram', 'tflers', 'thanks', 'that', 'the', 'there', 'this', 'threads', 'tiktok', 'time', 'timeoftravel', 'tmn', 'tochilinata', 'today', 'together', 'tomsk', 'top', 'tour', 'tourism', 'town', 'travel', 'travelblog', 'travelblogger', 'traveler', 'travelgram', 'traveling', 'travelling', 'travelphotography', 'travelrussia', 'travels', 'traveltime', 'tree', 'trees', 'trekking', 'trip', 'turkey', 'tver', 'tyumen', 'ukraine', 'ulitka883', 'ulsk', 'ulyanovsk', 'ural', 'urban', 'url', 'urlaub', 'vacation', 'vacation2020', 'vacations', 'vacationtime', 'vdk', 'viber', 'vibes', 'view', 'viewtopic', 'village', 'vip', 'vladivostok', 'vladivostok_beautiful', 'vladivostok_official', 'vocation', 'volga', 'voronezh', 'voyage', 'vrn', 'vsco', 'vscocam', 'vscorussia', 'waiting', 'walk', 'walk_on_russia', 'walking', 'warmsea', 'was', 'water', 'watercolor', 'watsapp', 'way', 'weather', 'wedding', 'weekend', 'welcome', 'wella', 'wellahair', 'wellness', 'were', 'what', 'whats', 'whatsapp', 'when', 'white', 'will', 'with', 'woman', 'women', 'wonderful', 'work', 'workhard', 'world', 'yandex', 'year', 'you', 'your', 'youtube', 'zara', 'zarina', 'ааа', 'аааа', 'ааааа', 'абакан', 'абонемент', 'абрау', 'абраудюрсо', 'абрикос', 'абсолютно', 'абсолютный', 'абхазия', 'абхазский', 'ава', 'аванс', 'авантюра', 'авария', 'авг', 'август', 'август2020', 'август_2020', 'августовский', 'авиа', 'авиабилет', 'авиакомпания', 'авиалиния', 'авиаперелёт', 'авиарейс', 'авиасообщение', 'авиация', 'авить', 'авокадо', 'авось', 'аврал', 'аврор', 'австралия', 'австрия', 'авто', 'автобус', 'автобусный', 'автоваз', 'автовокзал', 'автокресло', 'автомат', 'автоматически', 'автомобиль', 'автомобильный', 'автопробег', 'автопутешествие', 'автор', 'авторитетно', 'авторский', 'автостоп', 'автошкола', 'ага', 'агенство', 'агент', 'агентство', 'агрессия', 'ада', 'адам', 'адаптация', 'адаптироваться', 'адвокат', 'адекватно', 'адекватный', 'адлер', 'адлер2020', 'админ', 'административный', 'администратор', 'администрация', 'адреналин', 'адрес', 'адский', 'аду', 'адыгея', 'азарт', 'азат', 'азиатский', 'азия', 'азов', 'азовский', 'азовскоемор', 'азовскоеморе2020', 'айпетереть', 'айфон', 'академгородок', 'академик', 'академический', 'академия', 'аквапарк', 'акварель', 'акварельный', 'аккаунт', 'акклиматизация', 'аккорд', 'аккумулятор', 'аккурат', 'аккуратно', 'аккуратный', 'акрил', 'аксессуар', 'аксёнов', 'акт', 'акташ', 'актив', 'активист', 'активничать', 'активно', 'активность', 'активный', 'активныйотдых', 'актриса', 'актуально', 'актуальность', 'актуальный', 'актёр', 'акула', 'акцент', 'акция', 'ала', 'алаколь', 'алания', 'аланья', 'алгоритм', 'алекс', 'александр', 'александровский', 'алексеев', 'алексей', 'ален', 'али', 'алин', 'алиса', 'алкоголик', 'алкоголь', 'алкогольный', 'алл', 'аллергия', 'аллея', 'алло', 'алмаз', 'алмазный', 'алматы', 'алтай', 'алтай2020', 'алтайск', 'алтайский', 'алтайскийкрай', 'алтайскийкрай2020', 'алтая', 'алупка', 'алушта', 'алый', 'альбин', 'альбом', 'альметьевск', 'альпийский', 'альпинизм', 'альтернатива', 'альтернативный', 'альфа', 'аля', 'алёна', 'амазонка', 'амбициозный', 'амбиция', 'америка', 'американец', 'американский', 'амигуруметь', 'аминь', 'амстердам', 'амур', 'амурский', 'ана', 'анализ', 'анализировать', 'аналитика', 'аналогичный', 'ананас', 'анапа', 'анапа2020', 'анапа_2020', 'анапа_это_мой_кайф', 'анастасий', 'анастасия', 'анатолий', 'ангарск', 'ангел', 'ангелина', 'ангина', 'английский', 'англия', 'андреевка', 'андрей', 'андроид', 'аней', 'анекдот', 'анестезиолог', 'анестезиология', 'анечка', 'анжелика', 'ани', 'аниматор', 'анимация', 'аниме', 'анкара', 'анкета', 'анна', 'аннулировать', 'анон', 'аноним', 'анонимно', 'анонс', 'анонсировать', 'ансамбль', 'анталия', 'анталья', 'антибактериальный', 'антибиотик', 'антикризисный', 'антисептик', 'антитело', 'антицеллюлитный', 'антон', 'аншлаг', 'анюта', 'анютка', 'аня', 'апартамент', 'апатия', 'апельсин', 'апельсиновый', 'апероль', 'апокалипсис', 'апостроф', 'аппарат', 'аппаратный', 'аппетит', 'апрель', 'апрельский', 'аптека', 'аптечка', 'аптечный', 'арабский', 'арбат', 'арбуз', 'арбузик', 'аргумент', 'аренда', 'арендовать', 'арин', 'арина', 'аристотель', 'ария', 'арка', 'арктика', 'армения', 'армия', 'армянский', 'аромат', 'ароматный', 'арсенал', 'арсений', 'арт', 'артист', 'артистка', 'артур', 'артём', 'архангельск', 'архангельский', 'архив', 'архивный', 'архипка', 'архипо', 'архипоосиповка', 'архитектор', 'архитектура', 'архитектурный', 'архыз', 'аршан', 'аск', 'аспект', 'ассортимент', 'ассоциация', 'ассоциироваться', 'астр', 'астраханский', 'астрахань', 'астролог', 'астрология', 'астрономия', 'асфальт', 'асфальтовый', 'ася', 'атака', 'ателье', 'атлантида', 'атлас', 'атмосфера', 'атмосферный', 'ато', 'атор', 'атрибут', 'аттестат', 'аттракцион', 'аудио', 'аудиокнига', 'аудитория', 'аура', 'аут', 'афина', 'афон', 'африка', 'афрокос', 'аффирмация', 'ахах', 'ахахи', 'ахи', 'ахлето', 'ахун', 'аша', 'аэропорт', 'аэрофлот', 'баба', 'бабка', 'бабочка', 'бабуля', 'бабушка', 'бабушкин', 'бавария', 'багаж', 'багажник', 'багет', 'бадминтон', 'база', 'базаотдых', 'базар', 'базовый', 'бай', 'байдарка', 'байк', 'байка', 'байкал', 'байкал2020', 'байкальский', 'байкер', 'байрам', 'бак', 'бакалавр', 'бактерия', 'бал', 'балаклава', 'балаково', 'баланс', 'балашиха', 'балдеть', 'балет', 'бали', 'балка', 'балкон', 'балконный', 'балл', 'баллон', 'баловать', 'баловаться', 'балтийск', 'балтийский', 'балтийскоемор', 'балтика', 'балтия', 'бальзам', 'банально', 'банальный', 'банан', 'бангкок', 'банда', 'банк', 'банка', 'банковский', 'банный', 'баночка', 'бантик', 'банька', 'баня', 'бар', 'барабан', 'барашек', 'бардак', 'баренцев', 'бармен', 'барнаул', 'барселона', 'бартер', 'бархат', 'бархатный', 'барышня', 'басик', 'бассейн', 'бассея', 'батарейка', 'батарея', 'батут', 'бауман', 'бахчисарай', 'бац', 'башкирия', 'башкортостан', 'башня', 'бдительный', 'бег', 'бегать', 'бегов', 'беговой', 'бегом', 'беготня', 'беда', 'бедный', 'бедро', 'бежать', 'без_больший', 'без_вода', 'без_возможность', 'без_всякий', 'без_вы', 'без_выезд', 'без_выходной', 'без_дело', 'без_деньга', 'без_дорога', 'без_единый', 'без_изменение', 'без_интернет', 'без_какой', 'без_конец', 'без_косметика', 'без_который', 'без_красивый', 'без_лишний', 'без_любимый', 'без_маникюр', 'без_маска', 'без_мой', 'без_море', 'без_морюшко', 'без_муж', 'без_мы', 'без_нея', 'без_ноутбук', 'без_общение', 'без_он', 'без_она', 'без_они', 'без_оплата', 'без_особый', 'без_остановка', 'без_отдых', 'без_отпуск', 'без_очередь', 'без_план', 'без_повод', 'без_поездка', 'без_помощь', 'без_понятие', 'без_право', 'без_приказ', 'без_приключение', 'без_проблема', 'без_прогноз', 'без_путешествие', 'без_работа', 'без_разница', 'без_ребёнок', 'без_сахара', 'без_свой', 'без_связь', 'без_слово', 'без_содержание', 'без_сон', 'без_сохранение', 'без_стресс', 'без_суета', 'без_телефон', 'без_тот', 'без_ты', 'без_учёт', 'без_фанатизм', 'без_фильтр', 'без_что', 'без_это', 'без_этот', 'без_я', 'безбашенный', 'безболезненно', 'безбрежный', 'безвылазно', 'безгранично', 'безграничный', 'бездарно', 'бездействие', 'безделье', 'бездельник', 'бездельница', 'бездельничать', 'бездонный', 'бездорожье', 'бездумно', 'беззаботно', 'беззаботность', 'беззаботный', 'безкосметика', 'безлюдный', 'безмакияж', 'безмерно', 'безморе', 'безмятежность', 'безмятежный', 'безобразие', 'безопасно', 'безопасность', 'безопасный', 'безработица', 'безработный', 'безумие', 'безумно', 'безумный', 'безусловно', 'безфильтр', 'бел', 'бела', 'беларусь', 'белгород', 'белгородский', 'беленький', 'белка', 'белок', 'белокаменный', 'белокуриха', 'белорецк', 'белорус', 'белоруссия', 'белорусский', 'белосарайскаякос', 'белоснежный', 'белочка', 'белые', 'белыеночь', 'белый', 'белых', 'бельгия', 'бельё', 'бензин', 'бердск', 'бердянск', 'берег', 'берегитесести', 'береговой', 'бережно', 'бережный', 'березовский', 'беременность', 'беременный', 'берендеево', 'берет', 'беречь', 'берлин', 'берёза', 'берёзка', 'берёзовый', 'беседа', 'беседка', 'беседовать', 'бесить', 'бесконечно', 'бесконечность', 'бесконечный', 'бескрайний', 'бесплатно', 'бесплатный', 'бесподобнаянадин', 'беспокоить', 'беспокоиться', 'беспокойный', 'беспокойство', 'бесполезный', 'беспредел', 'беспрецедентный', 'беспроцентный', 'бессильный', 'бессимптомный', 'бессмертный', 'бессмысленно', 'бессмысленный', 'бессонный', 'бестолковый', 'бесцельно', 'бесценный', 'бетонный', 'бешенный', 'бешено', 'бешеный', 'бештау', 'библио', 'библиотека', 'библиотекарь', 'бизнес', 'бийск', 'бикини', 'билет', 'билетик', 'биологический', 'биоревитализация', 'бир', 'биржа', 'биробиджан', 'бирюзовый', 'бисер', 'бисквит', 'битва', 'битком', 'бить', 'биться', 'бишь', 'бла', 'благо', 'благоверная', 'благовещенск', 'благовещенский', 'благоволить', 'благодарить', 'благодарность', 'благодарный', 'благодаря', 'благодатный', 'благодать', 'благой', 'благополучие', 'благополучно', 'благополучный', 'благоприятный', 'благородный', 'благословенный', 'благоустроенный', 'благоустройство', 'блаженно', 'блаженный', 'блайза', 'бланманже', 'бледность', 'бледный', 'блеск', 'блестящий', 'ближай', 'ближний', 'близ', 'близиться', 'близкие', 'близкиечеловек', 'близкий', 'близко', 'близлежащий', 'близнец', 'близость', 'близь', 'блииина', 'блик', 'блин', 'блинчик', 'блистать', 'блог', 'блоггер', 'блогер', 'блок', 'блокировать', 'блокнот', 'блокнотик', 'блонда', 'блондинка', 'блуждать', 'блюдо', 'бля', 'блядь', 'блять', 'блёстка', 'боб', 'бог', 'богатый', 'богатырь', 'богдан', 'богиня', 'бодрить', 'бодрость', 'бодрум', 'бодрый', 'бодрячок', 'боев', 'боевой', 'боец', 'божественно', 'божественный', 'божий', 'бой', 'бок', 'бокал', 'бокальчик', 'боком', 'бокс', 'болгарин', 'болгария', 'болезнь', 'болельщик', 'болеть', 'болотный', 'болото', 'болтать', 'болтаться', 'боль', 'больница', 'больничка', 'больничный', 'больно', 'больной', 'большенство', 'больший', 'большинство', 'большой', 'большойбор', 'большойутриша', 'большоя', 'болячка', 'бомба', 'бомбезный', 'бомбить', 'бомбический', 'бомбичёска', 'бонус', 'бора', 'борд', 'бордюр', 'борис', 'бормотуха', 'борода', 'бородач', 'бороться', 'борт', 'бортик', 'борщ', 'борщевик', 'борьба', 'босиком', 'босоножка', 'босс', 'бот', 'ботанический', 'ботинок', 'ботокс', 'бочка', 'боязно', 'бояться', 'бравый', 'бразилия', 'брак', 'браслет', 'брат', 'братан', 'братишка', 'братский', 'брать', 'браться', 'бред', 'бренд', 'бренный', 'брест', 'бригада', 'бриз', 'бритва', 'бритьё', 'бро', 'бровея', 'бровист', 'бровка', 'бровь', 'бродить', 'бронзовый', 'бронирование', 'бронировать', 'бронь', 'бросать', 'бросить', 'броситься', 'брошь', 'брус', 'брусника', 'брызги', 'брюки', 'брюнетка', 'брюнеткасзеленымиглаз', 'брянск', 'брянский', 'бугор', 'будильник', 'будить', 'будни', 'будний', 'буднимам', 'будоражить', 'будускучать', 'будущее', 'будущий', 'будьсобый', 'будьтесчастливый', 'бузулук', 'буйный', 'буйство', 'буква', 'буквально', 'буквальный', 'букет', 'букетик', 'букинг', 'булатфанат', 'булка', 'булочка', 'бульвар', 'бум', 'бумага', 'бумажка', 'бумажный', 'бумеранг', 'бункер', 'бунт', 'бунтовщик', 'бургера', 'буреть', 'бурлить', 'бурно', 'бурный', 'буря', 'бурятия', 'бусина', 'бусинка', 'бутерброд', 'бутон', 'бутылка', 'бутылочка', 'бухгалтер', 'бухгалтерия', 'бухнуть', 'бухта', 'бушевать', 'бывалый', 'бывать', 'бывший', 'былой', 'быстренько', 'быстро', 'быстротечный', 'быстрый', 'быт', 'бытие', 'бытовой', 'бытовуха', 'бычок', 'бьютя', 'бюджет', 'бюджетник', 'бюджетный', 'вагон', 'вадим', 'важный', 'вай', 'вайбер', 'вакансия', 'вакцина', 'вакцинация', 'валдай', 'валентин', 'валер', 'валерий', 'валик', 'валиться', 'вальс', 'валюта', 'валяться', 'ван', 'ванильный', 'ванна', 'ванная', 'ваня', 'варвар', 'варение', 'вареник', 'вариант', 'варить', 'варшавский', 'варя', 'варёный', 'василий', 'василиса', 'васильевский', 'василёк', 'вася', 'вата', 'ватрушка', 'ватсап', 'ватсапп', 'вау', 'ваучер', 'вахта', 'вацап', 'ваш', 'ващий', 'вбг', 'вблизи', 'введение', 'вверх', 'ввести', 'ввиду', 'вводить', 'вдалеке', 'вдали', 'вдаль', 'вдв', 'вдвое', 'вдвойне', 'вдвоём', 'вдеревня', 'вдк', 'вднх', 'вдоволь', 'вдоль', 'вдорога', 'вдох', 'вдохновение', 'вдохновитель', 'вдохновить', 'вдохновиться', 'вдохновлять', 'вдохновляться', 'вдохнуть', 'вдыхать', 'веб', 'вебинар', 'ведать', 'ведение', 'ведомство', 'ведущий', 'ведьма', 'ведьмак', 'вежливый', 'везде', 'везение', 'везти', 'везунчик', 'век', 'веко', 'вековой', 'вектор', 'велеса', 'велеть', 'вели', 'велик', 'великан', 'великий', 'великийновгород', 'великобритания', 'великое', 'великолепие', 'великолепно', 'великолепный', 'величественный', 'величество', 'величие', 'велопоход', 'велопрогулка', 'велопутешествие', 'велосипед', 'велосипедный', 'вельвет', 'вена', 'венгрия', 'венеция', 'вениамин', 'веник', 'вентилятор', 'вера', 'веранда', 'вердикт', 'верить', 'вериться', 'верно', 'верность', 'вернуть', 'вернуться', 'верный', 'вероника', 'вероятно', 'вероятность', 'вероятный', 'версия', 'вертеть', 'вертеться', 'вертикальный', 'вертолёт', 'верх', 'верхний', 'верховный', 'верхушка', 'вершина', 'верёвочный', 'вес', 'веселеть', 'веселие', 'веселить', 'веселиться', 'весело', 'весенний', 'весить', 'весло', 'весна', 'весной', 'веснушка', 'вести', 'вестись', 'весы', 'весь', 'весьма', 'весёлый', 'ветвь', 'ветер', 'ветеран', 'ветерок', 'ветка', 'веточка', 'ветреный', 'ветчина', 'вечер', 'вечереть', 'вечеринка', 'вечерком', 'вечерний', 'вечерня', 'вечерняяпрогулка', 'вечером', 'вечно', 'вечность', 'вечный', 'вещать', 'вещество', 'вещий', 'вещичка', 'вещь', 'веять', 'вживую', 'вжик', 'вжухнуть', 'взаимнаяподписка', 'взаимно', 'взаимность', 'взаимныелайка', 'взаимныелая', 'взаимныеподписка', 'взаимный', 'взаимодействие', 'взаимодействовать', 'взаимопонимание', 'взамен', 'взаперти', 'взбодриться', 'взвесить', 'взгляд', 'взглянуть', 'взгрустнуться', 'вздох', 'вздохнуть', 'вздыхать', 'взлетать', 'взлететь', 'взлёт', 'взнос', 'взобраться', 'взойти', 'взор', 'взрослый', 'взрыв', 'взыскать', 'взять', 'взяться', 'вид', 'видать', 'видение', 'видео', 'видеоурок', 'видеть', 'видеться', 'видимо', 'видимость', 'видимый', 'видио', 'видно', 'видный', 'видос', 'видосик', 'видти', 'виза', 'визажист', 'визжать', 'визит', 'визитка', 'визитный', 'визуализация', 'визуализировать', 'визуальный', 'вика', 'виктор', 'виктория', 'вилла', 'вильнюс', 'вина', 'винить', 'винишко', 'винный', 'вино', 'виноватый', 'виновник', 'виноград', 'виноградник', 'винтажный', 'винцо', 'виртуально', 'виртуальный', 'вирус', 'вирусный', 'висеть', 'висла', 'висок', 'високосный', 'виталий', 'витамин', 'виток', 'витрина', 'витя', 'витязёвый', 'вица', 'вишенка', 'вишня', 'вишнёвый', 'вкалывать', 'вклад', 'вкладывать', 'вкладываться', 'вклиниться', 'включать', 'включаться', 'включая', 'включительно', 'включить', 'включиться', 'вконтакте', 'вкратце', 'вкус', 'вкусить', 'вкусненький', 'вкусно', 'вкусность', 'вкусный', 'вкуснятина', 'вкусняшка', 'влад', 'владелец', 'владение', 'владеть', 'владивосток', 'владивосток2020', 'владикавказ', 'владимир', 'владимирский', 'влажность', 'влажный', 'власть', 'влезть', 'влеса', 'влететь', 'вливаться', 'влиться', 'влияние', 'влиять', 'влог', 'вложение', 'вложить', 'вложиться', 'влюбить', 'влюбиться', 'влюбляться', 'вместе', 'вместемысить', 'вместенавсегда', 'вместительный', 'вместить', 'вместо', 'вмешательство', 'вмешаться', 'вмф', 'вначале', 'вне', 'внедорожный']\n"
     ]
    }
   ],
   "source": [
    "print(terms[:2000])"
   ]
  },
  {
   "cell_type": "code",
   "execution_count": null,
   "metadata": {
    "colab": {},
    "colab_type": "code",
    "id": "kE2CX3HYDNTs"
   },
   "outputs": [],
   "source": [
    "# feature_array = np.array(terms)\n",
    "# a = np.argsort(matrix.toarray())\n",
    "# tf_idf_sorting = a.flatten()[::-1]\n",
    "# n = 30 \n",
    "# top_n = feature_array[tf_idf_sorting][:n]\n",
    "# print(top_n)"
   ]
  },
  {
   "cell_type": "code",
   "execution_count": null,
   "metadata": {
    "colab": {
     "base_uri": "https://localhost:8080/",
     "height": 974
    },
    "colab_type": "code",
    "id": "Wyy29XxyAo8F",
    "outputId": "d3e24bd8-1d92-47a7-978a-52762318d2fd"
   },
   "outputs": [
    {
     "name": "stdout",
     "output_type": "stream",
     "text": [
      "7.276343584060669\n",
      "1 cluster num is calculated\n",
      "Explained variance of the SVD step: 86%\n",
      "44.34646201133728\n",
      "2 cluster num is calculated\n",
      "Explained variance of the SVD step: 86%\n",
      "48.20662784576416\n",
      "3 cluster num is calculated\n",
      "Explained variance of the SVD step: 86%\n",
      "58.9960720539093\n",
      "4 cluster num is calculated\n",
      "Explained variance of the SVD step: 86%\n",
      "67.66206526756287\n",
      "5 cluster num is calculated\n",
      "Explained variance of the SVD step: 86%\n",
      "72.38622760772705\n",
      "6 cluster num is calculated\n",
      "Explained variance of the SVD step: 86%\n",
      "115.90700888633728\n",
      "7 cluster num is calculated\n",
      "Explained variance of the SVD step: 86%\n",
      "132.10672616958618\n",
      "8 cluster num is calculated\n",
      "Explained variance of the SVD step: 86%\n",
      "126.09347128868103\n",
      "9 cluster num is calculated\n",
      "Explained variance of the SVD step: 86%\n",
      "118.47537016868591\n",
      "10 cluster num is calculated\n",
      "Explained variance of the SVD step: 86%\n",
      "130.96696877479553\n",
      "11 cluster num is calculated\n",
      "Explained variance of the SVD step: 86%\n",
      "145.17250967025757\n",
      "12 cluster num is calculated\n",
      "Explained variance of the SVD step: 86%\n",
      "163.59890699386597\n",
      "13 cluster num is calculated\n",
      "Explained variance of the SVD step: 86%\n",
      "177.8369963169098\n",
      "14 cluster num is calculated\n",
      "Explained variance of the SVD step: 86%\n",
      "152.10572338104248\n",
      "15 cluster num is calculated\n",
      "Explained variance of the SVD step: 86%\n",
      "178.452397108078\n",
      "16 cluster num is calculated\n",
      "Explained variance of the SVD step: 86%\n",
      "180.62540936470032\n",
      "17 cluster num is calculated\n",
      "Explained variance of the SVD step: 86%\n",
      "195.75246381759644\n",
      "18 cluster num is calculated\n",
      "Explained variance of the SVD step: 86%\n",
      "186.20415902137756\n",
      "19 cluster num is calculated\n",
      "Explained variance of the SVD step: 86%\n"
     ]
    }
   ],
   "source": [
    "from sklearn.cluster import KMeans \n",
    "import matplotlib.pyplot as plt\n",
    "from sklearn.decomposition import TruncatedSVD\n",
    "import time\n",
    "\n",
    "svd = TruncatedSVD(n_components = 2000)\n",
    "features = svd.fit_transform(matrix)\n",
    "\n",
    "num_clusters = range(1,20)\n",
    "KM = []\n",
    "\n",
    "for k in num_clusters:\n",
    "  t0 = time.time() \n",
    "  fit_pred = KMeans(n_clusters=k).fit(features)\n",
    "  KM.append(fit_pred)\n",
    "  t1 = time.time()\n",
    "  times = t1 - t0 \n",
    "  print(times)\n",
    "  print(\"{k} cluster num is calculated\".format(k = k))\n",
    "  explained_variance = svd.explained_variance_ratio_.sum()\n",
    "  print(\"Explained variance of the SVD step: {}%\".format(int(explained_variance * 100)))"
   ]
  },
  {
   "cell_type": "code",
   "execution_count": null,
   "metadata": {
    "colab": {},
    "colab_type": "code",
    "id": "SKo0dXlnAdek"
   },
   "outputs": [],
   "source": [
    "centroids = [k.cluster_centers_ for k in KM] "
   ]
  },
  {
   "cell_type": "code",
   "execution_count": null,
   "metadata": {
    "colab": {
     "base_uri": "https://localhost:8080/",
     "height": 34
    },
    "colab_type": "code",
    "id": "rqxgcJ4pA1O0",
    "outputId": "7b6212d4-99fb-4a47-dec9-57622a4ed625"
   },
   "outputs": [
    {
     "data": {
      "text/plain": [
       "(1, 2000)"
      ]
     },
     "execution_count": 52,
     "metadata": {
      "tags": []
     },
     "output_type": "execute_result"
    }
   ],
   "source": [
    "centroids[0].shape"
   ]
  },
  {
   "cell_type": "code",
   "execution_count": null,
   "metadata": {
    "colab": {
     "base_uri": "https://localhost:8080/",
     "height": 312
    },
    "colab_type": "code",
    "id": "1mdqG8LYF9lz",
    "outputId": "5c6c66a2-fd98-402e-d51e-5ce69a215d4c"
   },
   "outputs": [
    {
     "data": {
      "text/plain": [
       "Text(0.5, 1.0, 'Elbow for KMeans clustering')"
      ]
     },
     "execution_count": 53,
     "metadata": {
      "tags": []
     },
     "output_type": "execute_result"
    },
    {
     "data": {
      "image/png": "[encoded data removed]",
      "text/plain": [
       "<Figure size 432x288 with 1 Axes>"
      ]
     },
     "metadata": {
      "needs_background": "light",
      "tags": []
     },
     "output_type": "display_data"
    }
   ],
   "source": [
    "%matplotlib inline\n",
    "from scipy.spatial.distance import cdist\n",
    "\n",
    "D_k = [cdist(features, cent,'euclidean') for cent in centroids]  #euclidean as a distance measure\n",
    "eucldist = [np.min(D,axis=1) for D in D_k]  #find minimum distance\n",
    "avgWithinSM = [sum(d)/matrix.shape[0] for d in eucldist]\n",
    "kIdx = 3 \n",
    "# plot elbow\n",
    "fig = plt.figure()\n",
    "ax = fig.add_subplot(111)\n",
    "ax.plot(num_clusters, avgWithinSM, 'b*-')\n",
    "ax.plot(num_clusters[kIdx], avgWithinSM[kIdx], marker='o', markersize=12, \n",
    "    markeredgewidth=2, markeredgecolor='r', markerfacecolor='None')\n",
    "plt.grid(True)\n",
    "plt.xlabel('Number of clusters')\n",
    "plt.ylabel('Average within cluster sum of squares measure')\n",
    "plt.title('Elbow for KMeans clustering')"
   ]
  },
  {
   "cell_type": "code",
   "execution_count": 8,
   "metadata": {
    "colab": {},
    "colab_type": "code",
    "id": "sSUnAKbBF9jm"
   },
   "outputs": [],
   "source": [
    "from sklearn.decomposition import TruncatedSVD\n",
    "\n",
    "svd = TruncatedSVD(n_components = 2000)\n",
    "features = svd.fit_transform(matrix)\n",
    "\n",
    "from sklearn.cluster import KMeans\n",
    "best_K=4\n",
    "\n",
    "model = KMeans(best_K)  \n",
    "model.fit(features)  \n",
    "clusters = model.labels_.tolist()\n",
    "#create dictionary of docs and cluster\n",
    "news = {'docs': text,'cluster': clusters}  \n",
    "frame = pd.DataFrame(news, index = [clusters] , columns = ['cluster'])  "
   ]
  },
  {
   "cell_type": "code",
   "execution_count": null,
   "metadata": {
    "colab": {
     "base_uri": "https://localhost:8080/",
     "height": 118
    },
    "colab_type": "code",
    "id": "srTl9EZsvlcK",
    "outputId": "46879646-6705-41b4-b1b0-d77f0d770c01"
   },
   "outputs": [
    {
     "name": "stdout",
     "output_type": "stream",
     "text": [
      "Number of documents per cluster\n"
     ]
    },
    {
     "data": {
      "text/plain": [
       "1    19182\n",
       "3     5616\n",
       "0     5520\n",
       "2     2865\n",
       "Name: cluster, dtype: int64"
      ]
     },
     "execution_count": 55,
     "metadata": {
      "tags": []
     },
     "output_type": "execute_result"
    }
   ],
   "source": [
    "print('Number of documents per cluster')\n",
    "frame['cluster'].value_counts()   "
   ]
  },
  {
   "cell_type": "code",
   "execution_count": null,
   "metadata": {
    "colab": {},
    "colab_type": "code",
    "id": "Vgos_vNXvonI"
   },
   "outputs": [],
   "source": [
    "text_tokens = []\n",
    "for i in text: \n",
    "  tokens = i.split()\n",
    "  for t in tokens: \n",
    "    text_tokens.append(t)\n",
    "\n",
    "vocab_frame = pd.DataFrame({'words': text_tokens}, index = text_tokens)"
   ]
  },
  {
   "cell_type": "code",
   "execution_count": null,
   "metadata": {
    "colab": {
     "base_uri": "https://localhost:8080/",
     "height": 195
    },
    "colab_type": "code",
    "id": "5kxbJya924Vm",
    "outputId": "e167beed-733b-4212-b057-b69abe337d08"
   },
   "outputs": [
    {
     "data": {
      "text/html": [
       "<div>\n",
       "<style scoped>\n",
       "    .dataframe tbody tr th:only-of-type {\n",
       "        vertical-align: middle;\n",
       "    }\n",
       "\n",
       "    .dataframe tbody tr th {\n",
       "        vertical-align: top;\n",
       "    }\n",
       "\n",
       "    .dataframe thead th {\n",
       "        text-align: right;\n",
       "    }\n",
       "</style>\n",
       "<table border=\"1\" class=\"dataframe\">\n",
       "  <thead>\n",
       "    <tr style=\"text-align: right;\">\n",
       "      <th></th>\n",
       "      <th>words</th>\n",
       "    </tr>\n",
       "  </thead>\n",
       "  <tbody>\n",
       "    <tr>\n",
       "      <th>отпуск</th>\n",
       "      <td>отпуск</td>\n",
       "    </tr>\n",
       "    <tr>\n",
       "      <th>2020</th>\n",
       "      <td>2020</td>\n",
       "    </tr>\n",
       "    <tr>\n",
       "      <th>крым</th>\n",
       "      <td>крым</td>\n",
       "    </tr>\n",
       "    <tr>\n",
       "      <th>судак</th>\n",
       "      <td>судак</td>\n",
       "    </tr>\n",
       "    <tr>\n",
       "      <th>новый</th>\n",
       "      <td>новый</td>\n",
       "    </tr>\n",
       "  </tbody>\n",
       "</table>\n",
       "</div>"
      ],
      "text/plain": [
       "         words\n",
       "отпуск  отпуск\n",
       "2020      2020\n",
       "крым      крым\n",
       "судак    судак\n",
       "новый    новый"
      ]
     },
     "execution_count": 57,
     "metadata": {
      "tags": []
     },
     "output_type": "execute_result"
    }
   ],
   "source": [
    "vocab_frame.head()"
   ]
  },
  {
   "cell_type": "code",
   "execution_count": null,
   "metadata": {
    "colab": {
     "base_uri": "https://localhost:8080/",
     "height": 151
    },
    "colab_type": "code",
    "id": "hHpW4hR0AhAh",
    "outputId": "8240ff9a-75fa-4e26-af24-b430ed51d5bc"
   },
   "outputs": [
    {
     "data": {
      "text/plain": [
       "array([[ 1.54257022e-01,  2.00501468e-01,  4.89265065e-03, ...,\n",
       "         1.21650547e-04, -4.08624024e-05, -1.44322404e-04],\n",
       "       [ 1.17916284e-01, -3.55358960e-02, -3.56722605e-02, ...,\n",
       "        -5.38294754e-05, -1.19570240e-05, -5.36531019e-05],\n",
       "       [ 1.10501121e-01, -3.95662701e-02, -1.38491983e-01, ...,\n",
       "         1.49057800e-05, -6.76524226e-05, -1.75914882e-04],\n",
       "       [ 1.89350215e-01, -7.82257755e-02,  1.12916285e-01, ...,\n",
       "         4.49616580e-05,  8.54753281e-05,  9.04280275e-05]])"
      ]
     },
     "execution_count": 58,
     "metadata": {
      "tags": []
     },
     "output_type": "execute_result"
    }
   ],
   "source": [
    "cluster_cen = model.cluster_centers_\n",
    "cluster_cen"
   ]
  },
  {
   "cell_type": "code",
   "execution_count": null,
   "metadata": {
    "colab": {
     "base_uri": "https://localhost:8080/",
     "height": 1000
    },
    "colab_type": "code",
    "id": "UmXydQq0BAcH",
    "outputId": "da51d2cc-5f1b-4f8a-c7c2-6f36150d5ed6"
   },
   "outputs": [
    {
     "name": "stdout",
     "output_type": "stream",
     "text": [
      "Top terms per cluster:\n",
      "Cluster 0: 100\n",
      " 000\n",
      " 1000\n",
      " 500\n",
      " beach\n",
      " 2017\n",
      " gif\n",
      " friends\n",
      " black\n",
      " smile\n",
      " like\n",
      " like4like\n",
      " girl\n",
      " relax\n",
      " активный\n",
      " 2021\n",
      " liketime\n",
      " summer\n",
      " like4likes\n",
      " sky\n",
      " sport\n",
      " photo\n",
      " баловать\n",
      " photooftheday\n",
      " автопутешествие\n",
      "Cluster 1: 000\n",
      " 200\n",
      " 2019\n",
      " 2021\n",
      " covid\n",
      " instagood\n",
      " black\n",
      " beach\n",
      " акция\n",
      " андрей\n",
      " live\n",
      " this\n",
      " актуальный\n",
      " анапа2020\n",
      " анна\n",
      " 2000\n",
      " алексей\n",
      " spb\n",
      " good\n",
      " saintpetersburg\n",
      " август\n",
      " beauty\n",
      " russia\n",
      " nature\n",
      " бали\n",
      "Cluster 2: 150\n",
      " 000\n",
      " 2017\n",
      " 2018\n",
      " 2019\n",
      " august\n",
      " flowers\n",
      " blacksea\n",
      " moscow\n",
      " girls\n",
      " art\n",
      " july\n",
      " smile\n",
      " holidays\n",
      " insta\n",
      " holiday\n",
      " абхазия\n",
      " follow\n",
      " mood\n",
      " relax\n",
      " авиабилет\n",
      " what\n",
      " акварель\n",
      " liketime\n",
      " life\n",
      "Cluster 3: 000\n",
      " 1000\n",
      " 150\n",
      " 2017\n",
      " 2000\n",
      " 300\n",
      " 2018\n",
      " good\n",
      " 2020\n",
      " beautiful\n",
      " foto\n",
      " beauty\n",
      " follow\n",
      " this\n",
      " vacation\n",
      " beach\n",
      " sky\n",
      " аэропорт\n",
      " автобус\n",
      " moscow\n",
      " nature\n",
      " goodday\n",
      " direct\n",
      " арт\n",
      " july\n"
     ]
    }
   ],
   "source": [
    "print(\"Top terms per cluster:\")\n",
    "order_centroids = model.cluster_centers_.argsort()[:, ::-1]\n",
    "terms = vectorizer.get_feature_names()\n",
    "for i in range(4):\n",
    "    print(\"Cluster %d:\" % i, end='')\n",
    "    for ind in order_centroids[i, :25]:\n",
    "        print(' %s' % terms[ind], end='')\n",
    "        print()\n",
    "\n",
    "#  Это все не очень интерпретируется, но можно попробовать "
   ]
  },
  {
   "cell_type": "code",
   "execution_count": 9,
   "metadata": {
    "colab": {},
    "colab_type": "code",
    "id": "YUBSTSK5KhcH"
   },
   "outputs": [],
   "source": [
    "from sklearn.decomposition import PCA\n",
    "import pylab as pl\n",
    "pca = PCA(n_components=2).fit(features)  \n",
    "data2D = pca.transform(features) "
   ]
  },
  {
   "cell_type": "code",
   "execution_count": 10,
   "metadata": {
    "colab": {
     "base_uri": "https://localhost:8080/",
     "height": 67
    },
    "colab_type": "code",
    "id": "KthvcSFuWtO2",
    "outputId": "07413623-7bc5-4047-ea0e-eefdca247924"
   },
   "outputs": [
    {
     "data": {
      "text/plain": [
       "KMeans(algorithm='auto', copy_x=True, init='k-means++', max_iter=300,\n",
       "       n_clusters=4, n_init=10, n_jobs=None, precompute_distances='auto',\n",
       "       random_state=None, tol=0.0001, verbose=0)"
      ]
     },
     "execution_count": 10,
     "metadata": {
      "tags": []
     },
     "output_type": "execute_result"
    }
   ],
   "source": [
    "model"
   ]
  },
  {
   "cell_type": "code",
   "execution_count": 11,
   "metadata": {
    "colab": {
     "base_uri": "https://localhost:8080/",
     "height": 314
    },
    "colab_type": "code",
    "id": "glrBMIZS9bAZ",
    "outputId": "c429b0d8-a123-4f72-cb2b-bb5727b3865d"
   },
   "outputs": [
    {
     "name": "stdout",
     "output_type": "stream",
     "text": [
      "CPU times: user 24min 50s, sys: 32 s, total: 25min 22s\n",
      "Wall time: 25min 23s\n"
     ]
    },
    {
     "data": {
      "image/png": "[encoded data removed]",
      "text/plain": [
       "<Figure size 432x288 with 1 Axes>"
      ]
     },
     "metadata": {
      "needs_background": "light",
      "tags": []
     },
     "output_type": "display_data"
    }
   ],
   "source": [
    "%%time \n",
    "import matplotlib.pyplot as plt \n",
    "\n",
    "for i in range(0, data2D.shape[0]):  \n",
    "    if model.labels_[i] == 1:\n",
    "        c1 = plt.scatter(data2D[i,0],data2D[i,1],c='#1b9e77', marker='+')\n",
    "    elif model.labels_[i] == 0:\n",
    "        c2 = plt.scatter(data2D[i,0],data2D[i,1],c='#a3061e',marker='o')\n",
    "    elif model.labels_[i] == 2:\n",
    "        c3 = plt.scatter(data2D[i,0],data2D[i,1],c='#7570b3',marker='*')\n",
    "    elif model.labels_[i] == 3:\n",
    "        c4 = plt.scatter(data2D[i,0],data2D[i,1],c='#f99d0c',marker='x')\n",
    "pl.title('K-means clusters')\n",
    "    \n",
    "centers2D = pca.transform(model.cluster_centers_)   \n",
    "plt.scatter(centers2D[:,0], centers2D[:,1], \n",
    "           marker='x', s=200, linewidths=3, c='r')"
   ]
  },
  {
   "cell_type": "code",
   "execution_count": null,
   "metadata": {
    "colab": {
     "base_uri": "https://localhost:8080/",
     "height": 67
    },
    "colab_type": "code",
    "id": "HqYdDcH5ZiTX",
    "outputId": "5760b2a4-57d4-4eea-fa8e-8bec22a61e00"
   },
   "outputs": [
    {
     "name": "stdout",
     "output_type": "stream",
     "text": [
      "0.1626631522059459\n",
      "CPU times: user 7.43 s, sys: 2.62 s, total: 10 s\n",
      "Wall time: 6.44 s\n"
     ]
    }
   ],
   "source": [
    "# SVD + Kmeans \n",
    "%%time\n",
    "from sklearn.decomposition import TruncatedSVD\n",
    "svd = TruncatedSVD(n_components = 100)\n",
    "features = svd.fit_transform(matrix)\n",
    "preds_svd_kmeans = model.fit_predict(features)\n",
    "\n",
    "print(svd.explained_variance_ratio_.sum())"
   ]
  },
  {
   "cell_type": "code",
   "execution_count": null,
   "metadata": {
    "colab": {
     "base_uri": "https://localhost:8080/",
     "height": 67
    },
    "colab_type": "code",
    "id": "J-UatKYfZvDI",
    "outputId": "c9047d7c-cd5b-4b55-dc34-c6a37e967150"
   },
   "outputs": [
    {
     "name": "stdout",
     "output_type": "stream",
     "text": [
      "0.23678575461952522\n",
      "CPU times: user 14.6 s, sys: 3.3 s, total: 17.9 s\n",
      "Wall time: 12.6 s\n"
     ]
    }
   ],
   "source": [
    "%%time\n",
    "svd = TruncatedSVD(n_components = 200)\n",
    "features = svd.fit_transform(matrix)\n",
    "preds_svd_kmeans = model.fit_predict(features)\n",
    "\n",
    "print(svd.explained_variance_ratio_.sum())"
   ]
  },
  {
   "cell_type": "code",
   "execution_count": null,
   "metadata": {
    "colab": {
     "base_uri": "https://localhost:8080/",
     "height": 67
    },
    "colab_type": "code",
    "id": "VtOXiwR8Z6s-",
    "outputId": "4f89c391-5605-4a5d-eb02-af6f99bf7dac"
   },
   "outputs": [
    {
     "name": "stdout",
     "output_type": "stream",
     "text": [
      "0.5055023769458565\n",
      "CPU times: user 1min 31s, sys: 7.58 s, total: 1min 39s\n",
      "Wall time: 1min 9s\n"
     ]
    }
   ],
   "source": [
    "%%time\n",
    "svd = TruncatedSVD(n_components = 1000)\n",
    "features = svd.fit_transform(matrix)\n",
    "preds_svd_kmeans = model.fit_predict(features)\n",
    "\n",
    "print(svd.explained_variance_ratio_.sum())\n",
    "# print(\"Explained variance of the SVD step: {}%\".format(int(explained_variance * 100)))"
   ]
  },
  {
   "cell_type": "code",
   "execution_count": null,
   "metadata": {
    "colab": {
     "base_uri": "https://localhost:8080/",
     "height": 67
    },
    "colab_type": "code",
    "id": "ZXTHcasIabn7",
    "outputId": "397c6029-f5b8-4c3d-9344-71e6815fdf28"
   },
   "outputs": [
    {
     "name": "stdout",
     "output_type": "stream",
     "text": [
      "Explained variance of the SVD step: 71%\n",
      "CPU times: user 6min 44s, sys: 13.3 s, total: 6min 57s\n",
      "Wall time: 4min 40s\n"
     ]
    }
   ],
   "source": [
    "%%time\n",
    "svd = TruncatedSVD(n_components = 2500)\n",
    "features = svd.fit_transform(matrix)\n",
    "preds_svd_kmeans = model.fit_predict(features)\n",
    "\n",
    "explained_variance = svd.explained_variance_ratio_.sum()\n",
    "print(\"Explained variance of the SVD step: {}%\".format(int(explained_variance * 100)))"
   ]
  },
  {
   "cell_type": "code",
   "execution_count": null,
   "metadata": {
    "colab": {
     "base_uri": "https://localhost:8080/",
     "height": 67
    },
    "colab_type": "code",
    "id": "kJGq6ElPabk_",
    "outputId": "64378303-163e-4e52-8e53-51b1feddc0e8"
   },
   "outputs": [
    {
     "name": "stdout",
     "output_type": "stream",
     "text": [
      "Explained variance of the SVD step: 75%\n",
      "CPU times: user 8min 26s, sys: 17.2 s, total: 8min 43s\n",
      "Wall time: 5min 29s\n"
     ]
    }
   ],
   "source": [
    "%%time\n",
    "svd = TruncatedSVD(n_components = 3000)\n",
    "features = svd.fit_transform(matrix)\n",
    "preds_svd_kmeans = model.fit_predict(features)\n",
    "\n",
    "explained_variance = svd.explained_variance_ratio_.sum()\n",
    "print(\"Explained variance of the SVD step: {}%\".format(int(explained_variance * 100)))"
   ]
  },
  {
   "cell_type": "code",
   "execution_count": null,
   "metadata": {
    "colab": {
     "base_uri": "https://localhost:8080/",
     "height": 67
    },
    "colab_type": "code",
    "id": "9AHSTA0IaFNK",
    "outputId": "07c713de-47a9-4950-92a4-58e2e73c14b3"
   },
   "outputs": [
    {
     "name": "stdout",
     "output_type": "stream",
     "text": [
      "Explained variance of the SVD step: 84%\n",
      "CPU times: user 17min 50s, sys: 25 s, total: 18min 16s\n",
      "Wall time: 11min\n"
     ]
    }
   ],
   "source": [
    "%%time\n",
    "svd = TruncatedSVD(n_components = 4500)\n",
    "features = svd.fit_transform(matrix)\n",
    "preds_svd_kmeans = model.fit_predict(features)\n",
    "\n",
    "explained_variance = svd.explained_variance_ratio_.sum()\n",
    "print(\"Explained variance of the SVD step: {}%\".format(int(explained_variance * 100)))"
   ]
  },
  {
   "cell_type": "code",
   "execution_count": 12,
   "metadata": {
    "colab": {
     "base_uri": "https://localhost:8080/",
     "height": 639
    },
    "colab_type": "code",
    "id": "6Cp8cQVEggR5",
    "outputId": "c6991e02-525a-4fcf-c416-9715e8e74d02"
   },
   "outputs": [
    {
     "data": {
      "text/html": [
       "<div>\n",
       "<style scoped>\n",
       "    .dataframe tbody tr th:only-of-type {\n",
       "        vertical-align: middle;\n",
       "    }\n",
       "\n",
       "    .dataframe tbody tr th {\n",
       "        vertical-align: top;\n",
       "    }\n",
       "\n",
       "    .dataframe thead th {\n",
       "        text-align: right;\n",
       "    }\n",
       "</style>\n",
       "<table border=\"1\" class=\"dataframe\">\n",
       "  <thead>\n",
       "    <tr style=\"text-align: right;\">\n",
       "      <th></th>\n",
       "      <th>0</th>\n",
       "      <th>texts</th>\n",
       "      <th>texts_raw</th>\n",
       "    </tr>\n",
       "  </thead>\n",
       "  <tbody>\n",
       "    <tr>\n",
       "      <th>0</th>\n",
       "      <td>3</td>\n",
       "      <td>отпуск 2020 крым судак новый свет феодосий</td>\n",
       "      <td>Отпуск 2020. Крым. Судак. Новый Свет.  Феодосия.</td>\n",
       "    </tr>\n",
       "    <tr>\n",
       "      <th>1</th>\n",
       "      <td>0</td>\n",
       "      <td>год гордость очень довольный результат очень д...</td>\n",
       "      <td>Г-гордость❣️ я очень довольна результатом. Оче...</td>\n",
       "    </tr>\n",
       "    <tr>\n",
       "      <th>2</th>\n",
       "      <td>0</td>\n",
       "      <td>лето август отпуск не_у период отпуск добавлят...</td>\n",
       "      <td>Лето, август, отпуск,  но не у меня.  В период...</td>\n",
       "    </tr>\n",
       "    <tr>\n",
       "      <th>3</th>\n",
       "      <td>3</td>\n",
       "      <td>отпуск 2020 никакой лазурный берег сплошной ру...</td>\n",
       "      <td>Отпуск-2020. Никакого Лазурного берега, сплошн...</td>\n",
       "    </tr>\n",
       "    <tr>\n",
       "      <th>4</th>\n",
       "      <td>3</td>\n",
       "      <td>отпуск мор бугазскаякос мор солца отпуск отдых...</td>\n",
       "      <td>Мой отпуск на море\\n#бугазскаякоса #море #солц...</td>\n",
       "    </tr>\n",
       "    <tr>\n",
       "      <th>5</th>\n",
       "      <td>2</td>\n",
       "      <td>люба непонятный ситуация едь питер отпуск это ...</td>\n",
       "      <td>В любой непонятной ситуации - едь в Питер. \\n\\...</td>\n",
       "    </tr>\n",
       "    <tr>\n",
       "      <th>6</th>\n",
       "      <td>0</td>\n",
       "      <td>фотка чисто посмеяться первое погружение аквал...</td>\n",
       "      <td>А теперь фотки чисто посмеяться  Моё первое по...</td>\n",
       "    </tr>\n",
       "    <tr>\n",
       "      <th>7</th>\n",
       "      <td>2</td>\n",
       "      <td>закончиться отпуск окно подоконник стучать неи...</td>\n",
       "      <td>Вот и закончился мой отпуск. \\n\\nЗа окном по п...</td>\n",
       "    </tr>\n",
       "    <tr>\n",
       "      <th>8</th>\n",
       "      <td>0</td>\n",
       "      <td>отпуск прошлый большой месяц это время максиму...</td>\n",
       "      <td>С моего отпуска прошло чуть больше месяца и во...</td>\n",
       "    </tr>\n",
       "    <tr>\n",
       "      <th>9</th>\n",
       "      <td>0</td>\n",
       "      <td>отдыхать не_работать поэтому отпуск семья нача...</td>\n",
       "      <td>Отдыхать - не работать \\nПоэтому мой отпуск мы...</td>\n",
       "    </tr>\n",
       "    <tr>\n",
       "      <th>10</th>\n",
       "      <td>3</td>\n",
       "      <td>отпуск 2020 сочи солнце сочифорния адлер2020 к...</td>\n",
       "      <td>Отпуск 2020☀\\n\\n#Сочи #солнце #сочифорния #адл...</td>\n",
       "    </tr>\n",
       "    <tr>\n",
       "      <th>11</th>\n",
       "      <td>2</td>\n",
       "      <td>прошлое год это самый маршрут двигаться позапр...</td>\n",
       "      <td>Надо же! Я в прошлом году о этому же самому ма...</td>\n",
       "    </tr>\n",
       "    <tr>\n",
       "      <th>12</th>\n",
       "      <td>0</td>\n",
       "      <td>замечательный последний денёк отпуск отпуск202...</td>\n",
       "      <td>Такие замечательные последние деньки моего отп...</td>\n",
       "    </tr>\n",
       "    <tr>\n",
       "      <th>13</th>\n",
       "      <td>0</td>\n",
       "      <td>жырный плюс отговаривать несколько год деньга ...</td>\n",
       "      <td>Жырный плюс. Я себя так же отговариваю уже нес...</td>\n",
       "    </tr>\n",
       "    <tr>\n",
       "      <th>14</th>\n",
       "      <td>0</td>\n",
       "      <td>сегодня отпуск друг мореувидеться завтра утром...</td>\n",
       "      <td>сегодня Мой отпуск с друзьями на мореувидимся ...</td>\n",
       "    </tr>\n",
       "    <tr>\n",
       "      <th>15</th>\n",
       "      <td>0</td>\n",
       "      <td>знать девочка некоторый воспоминание хотеться ...</td>\n",
       "      <td>Я знаю, девочка моя, от некоторых воспоминаний...</td>\n",
       "    </tr>\n",
       "    <tr>\n",
       "      <th>16</th>\n",
       "      <td>2</td>\n",
       "      <td>серьёзно задумываться это гадость отпуск это г...</td>\n",
       "      <td>Я даже серьезно задумывалась об этом, но гадос...</td>\n",
       "    </tr>\n",
       "    <tr>\n",
       "      <th>17</th>\n",
       "      <td>2</td>\n",
       "      <td>закончиться наш отпуск 2020 чёрный мор это год...</td>\n",
       "      <td>Вот и закончился наш, уже второй, #отпуск 2020...</td>\n",
       "    </tr>\n",
       "    <tr>\n",
       "      <th>18</th>\n",
       "      <td>3</td>\n",
       "      <td>чудесный это лето 2020 отпуск учительвотпуск л...</td>\n",
       "      <td>Такое чудесное это лето 2020❤️#отпуск#учительв...</td>\n",
       "    </tr>\n",
       "    <tr>\n",
       "      <th>19</th>\n",
       "      <td>0</td>\n",
       "      <td>подойти конец отпуск успеть отдохнуть отбросит...</td>\n",
       "      <td>Вот и подошёл к концу мой отпуск.\\nУспела ли я...</td>\n",
       "    </tr>\n",
       "  </tbody>\n",
       "</table>\n",
       "</div>"
      ],
      "text/plain": [
       "    0  ...                                          texts_raw\n",
       "0   3  ...   Отпуск 2020. Крым. Судак. Новый Свет.  Феодосия.\n",
       "1   0  ...  Г-гордость❣️ я очень довольна результатом. Оче...\n",
       "2   0  ...  Лето, август, отпуск,  но не у меня.  В период...\n",
       "3   3  ...  Отпуск-2020. Никакого Лазурного берега, сплошн...\n",
       "4   3  ...  Мой отпуск на море\\n#бугазскаякоса #море #солц...\n",
       "5   2  ...  В любой непонятной ситуации - едь в Питер. \\n\\...\n",
       "6   0  ...  А теперь фотки чисто посмеяться  Моё первое по...\n",
       "7   2  ...  Вот и закончился мой отпуск. \\n\\nЗа окном по п...\n",
       "8   0  ...  С моего отпуска прошло чуть больше месяца и во...\n",
       "9   0  ...  Отдыхать - не работать \\nПоэтому мой отпуск мы...\n",
       "10  3  ...  Отпуск 2020☀\\n\\n#Сочи #солнце #сочифорния #адл...\n",
       "11  2  ...  Надо же! Я в прошлом году о этому же самому ма...\n",
       "12  0  ...  Такие замечательные последние деньки моего отп...\n",
       "13  0  ...  Жырный плюс. Я себя так же отговариваю уже нес...\n",
       "14  0  ...  сегодня Мой отпуск с друзьями на мореувидимся ...\n",
       "15  0  ...  Я знаю, девочка моя, от некоторых воспоминаний...\n",
       "16  2  ...  Я даже серьезно задумывалась об этом, но гадос...\n",
       "17  2  ...  Вот и закончился наш, уже второй, #отпуск 2020...\n",
       "18  3  ...  Такое чудесное это лето 2020❤️#отпуск#учительв...\n",
       "19  0  ...  Вот и подошёл к концу мой отпуск.\\nУспела ли я...\n",
       "\n",
       "[20 rows x 3 columns]"
      ]
     },
     "execution_count": 12,
     "metadata": {
      "tags": []
     },
     "output_type": "execute_result"
    }
   ],
   "source": [
    "preds_svd_kmeans = model.fit_predict(features)\n",
    "text_preds = pd.DataFrame(preds_svd_kmeans)\n",
    "text_preds[\"texts\"] = text\n",
    "text_preds[\"texts_raw\"] = text_raw\n",
    "text_preds.head(20)"
   ]
  },
  {
   "cell_type": "code",
   "execution_count": 13,
   "metadata": {
    "colab": {},
    "colab_type": "code",
    "id": "oeAIldRkggPI"
   },
   "outputs": [],
   "source": [
    "text_preds.to_csv(\"text_preds_kmeans_svd_2.csv\")"
   ]
  },
  {
   "cell_type": "markdown",
   "metadata": {
    "colab_type": "text",
    "id": "Km9qcW98AmhT"
   },
   "source": [
    "Итак, теперь сравним разные методы кластеризации.\n"
   ]
  },
  {
   "cell_type": "code",
   "execution_count": 6,
   "metadata": {
    "colab": {
     "base_uri": "https://localhost:8080/",
     "height": 47
    },
    "colab_type": "code",
    "id": "A6nSOohHWLYf",
    "outputId": "04b5e780-bdd9-45ce-be22-64f69ca4da59"
   },
   "outputs": [
    {
     "data": {
      "text/html": [
       "<div>\n",
       "<style scoped>\n",
       "    .dataframe tbody tr th:only-of-type {\n",
       "        vertical-align: middle;\n",
       "    }\n",
       "\n",
       "    .dataframe tbody tr th {\n",
       "        vertical-align: top;\n",
       "    }\n",
       "\n",
       "    .dataframe thead th {\n",
       "        text-align: right;\n",
       "    }\n",
       "</style>\n",
       "<table border=\"1\" class=\"dataframe\">\n",
       "  <thead>\n",
       "    <tr style=\"text-align: right;\">\n",
       "      <th></th>\n",
       "      <th>Run time</th>\n",
       "      <th>Within-cluster sum of squares(inertia)</th>\n",
       "      <th>Silhouette score</th>\n",
       "      <th>Number of clusters</th>\n",
       "    </tr>\n",
       "  </thead>\n",
       "  <tbody>\n",
       "  </tbody>\n",
       "</table>\n",
       "</div>"
      ],
      "text/plain": [
       "Empty DataFrame\n",
       "Columns: [Run time, Within-cluster sum of squares(inertia), Silhouette score, Number of clusters]\n",
       "Index: []"
      ]
     },
     "execution_count": 6,
     "metadata": {},
     "output_type": "execute_result"
    }
   ],
   "source": [
    "diff_clust = pd.DataFrame(columns = ['Run time', 'Within-cluster sum of squares(inertia)', 'Silhouette score', 'Number of clusters'])\n",
    "diff_clust.head()"
   ]
  },
  {
   "cell_type": "code",
   "execution_count": 7,
   "metadata": {
    "colab": {},
    "colab_type": "code",
    "id": "jRQn6JvUCnZS"
   },
   "outputs": [],
   "source": [
    "params = {'quantile': .3,\n",
    "                'eps': .3,\n",
    "                'damping': .9,\n",
    "                'preference': -200,\n",
    "                'n_neighbors': 10,\n",
    "                'n_clusters': 4}"
   ]
  },
  {
   "cell_type": "code",
   "execution_count": 8,
   "metadata": {
    "colab": {
     "base_uri": "https://localhost:8080/",
     "height": 255
    },
    "colab_type": "code",
    "id": "fAt_34tVC1_z",
    "outputId": "4f294fb2-2376-4ad1-9fa5-6f097bb0b10d"
   },
   "outputs": [
    {
     "name": "stdout",
     "output_type": "stream",
     "text": [
      "Requirement already satisfied: sklearn_extensions in c:\\users\\polina\\anaconda3\\lib\\site-packages (0.0.2)\n",
      "Requirement already satisfied: scikit-learn>=0.15 in c:\\users\\polina\\anaconda3\\lib\\site-packages (from sklearn_extensions) (0.21.3)\n",
      "Requirement already satisfied: numpy>=1.9.0 in c:\\users\\polina\\anaconda3\\lib\\site-packages (from sklearn_extensions) (1.16.5)\n",
      "Requirement already satisfied: scipy>=0.16.0 in c:\\users\\polina\\anaconda3\\lib\\site-packages (from sklearn_extensions) (1.3.1)\n",
      "Requirement already satisfied: joblib>=0.11 in c:\\users\\polina\\anaconda3\\lib\\site-packages (from scikit-learn>=0.15->sklearn_extensions) (0.13.2)\n",
      "Note: you may need to restart the kernel to use updated packages.\n"
     ]
    }
   ],
   "source": [
    "pip install sklearn_extensions"
   ]
  },
  {
   "cell_type": "code",
   "execution_count": 8,
   "metadata": {
    "colab": {
     "base_uri": "https://localhost:8080/",
     "height": 70
    },
    "colab_type": "code",
    "id": "qOZGe89FCiVu",
    "outputId": "c752c26d-573d-4a0b-c127-268287ee21f3"
   },
   "outputs": [],
   "source": [
    "import time\n",
    "from sklearn.cluster import KMeans\n",
    "from sklearn import cluster, mixture"
   ]
  },
  {
   "cell_type": "code",
   "execution_count": 9,
   "metadata": {
    "colab": {},
    "colab_type": "code",
    "id": "Vf95WU-yD2D9"
   },
   "outputs": [],
   "source": [
    "kmeans = cluster.KMeans(n_clusters=params['n_clusters'], random_state=42)"
   ]
  },
  {
   "cell_type": "code",
   "execution_count": 10,
   "metadata": {
    "colab": {},
    "colab_type": "code",
    "id": "eXKHT-aeCyGU"
   },
   "outputs": [],
   "source": [
    "two_means = cluster.MiniBatchKMeans(n_clusters=params['n_clusters'])\n",
    "ward = cluster.AgglomerativeClustering(n_clusters=params['n_clusters'], linkage='ward')\n",
    "spectral = cluster.SpectralClustering(n_clusters=params['n_clusters'], eigen_solver='arpack', affinity=\"nearest_neighbors\")\n",
    "dbscan = cluster.DBSCAN(eps=params['eps'])\n",
    "affinity_propagation = cluster.AffinityPropagation(damping=params['damping'], preference=params['preference'])\n",
    "average_linkage = cluster.AgglomerativeClustering(linkage=\"average\", affinity=\"cityblock\", n_clusters=params['n_clusters'])\n",
    "birch = cluster.Birch(n_clusters=params['n_clusters'])\n",
    "gmm = mixture.GaussianMixture(n_components=params['n_clusters'], covariance_type='full')"
   ]
  },
  {
   "cell_type": "code",
   "execution_count": 11,
   "metadata": {
    "colab": {},
    "colab_type": "code",
    "id": "kPGNCpKWCyEg"
   },
   "outputs": [],
   "source": [
    "names_methods = (\n",
    "        ('KMeans', kmeans),\n",
    "        ('MiniBatchKMeans', two_means),\n",
    "        ('Ward', ward),\n",
    "        ('AgglomerativeClustering', average_linkage),\n",
    "        ('DBSCAN', dbscan),\n",
    "        ('Birch', birch),\n",
    "        ('GaussianMixture', gmm)\n",
    "    )"
   ]
  },
  {
   "cell_type": "code",
   "execution_count": 12,
   "metadata": {
    "colab": {},
    "colab_type": "code",
    "id": "n0UP17gpN3Xd"
   },
   "outputs": [],
   "source": [
    "from sklearn.decomposition import TruncatedSVD\n",
    "from collections import defaultdict\n",
    "from sklearn.metrics import silhouette_score, silhouette_samples"
   ]
  },
  {
   "cell_type": "code",
   "execution_count": 13,
   "metadata": {
    "colab": {
     "base_uri": "https://localhost:8080/",
     "height": 34
    },
    "colab_type": "code",
    "id": "l6dPFNUCPfHl",
    "outputId": "08bae2c4-c413-42cf-c0a9-a93b651ec090"
   },
   "outputs": [
    {
     "name": "stdout",
     "output_type": "stream",
     "text": [
      "defaultdict(<class 'list'>, {})\n"
     ]
    }
   ],
   "source": [
    "results = defaultdict(list)\n",
    "print(results)\n",
    "\n",
    "# preds_m_keys = ['KMeans', 'kMedians', 'fuzzy KMeans', 'MiniBatchKMeans', \n",
    "#                 'Ward', 'AgglomerativeClustering', 'DBSCAN', 'Birch', \n",
    "#                 'GaussianMixture']\n",
    "# preds_models = {key: None for key in preds_m_keys}\n",
    "# print(preds_models)"
   ]
  },
  {
   "cell_type": "code",
   "execution_count": 20,
   "metadata": {
    "colab": {
     "base_uri": "https://localhost:8080/",
     "height": 118
    },
    "colab_type": "code",
    "id": "lBDMu_VbBocq",
    "outputId": "0c13cc5c-775b-418d-a234-c0cf3177d789"
   },
   "outputs": [
    {
     "name": "stdout",
     "output_type": "stream",
     "text": [
      "Predicted values are added ... \n",
      "AgglomerativeClustering IS DONE!!\n",
      "Predicted values are added ... \n",
      "DBSCAN IS DONE!!\n"
     ]
    }
   ],
   "source": [
    "preds_all = []\n",
    "for name, method in names_methods[3:5]: \n",
    "    t0 = time.time()\n",
    "    svd = TruncatedSVD(n_components = 2500)\n",
    "    features = svd.fit_transform(matrix)\n",
    "    \n",
    "    preds = method.fit_predict(features)\n",
    "    t1 = time.time()\n",
    "\n",
    "    results[name].append(t1-t0)\n",
    "    results[name].append(preds)\n",
    "    preds_all.append(preds)\n",
    "    \n",
    "    print(\"Predicted values are added ... \")\n",
    "\n",
    "    if name == 'KMeans' or name == 'MiniBatchKMeans':\n",
    "        inertia = method.inertia_\n",
    "    else:\n",
    "        inertia = 'N/A'\n",
    "    results[name].append(inertia)      \n",
    "\n",
    "    if name == 'GaussianMixture':\n",
    "        labels = method.predict(X)\n",
    "    else:\n",
    "        labels = method.labels_\n",
    "        score = silhouette_score(matrix, labels, metric='euclidean', sample_size=3000)\n",
    "    results[name].append(score)\n",
    "  \n",
    "    if name == 'MeanShift':\n",
    "        labels_unique = np.unique(labels)\n",
    "        K = len(labels_unique)     \n",
    "    elif name == 'DBSCAN':\n",
    "        K = len(set(labels)) - (1 if -1 in labels else 0)\n",
    "    else:\n",
    "        K = params['n_clusters'] \n",
    "    results[name].append(K)\n",
    "    \n",
    "    print(name + \" IS DONE!!\")\n",
    "    \n",
    "    results_df = pd.DataFrame(results)\n",
    "    results_df.to_csv(\"results_df.csv\")"
   ]
  },
  {
   "cell_type": "code",
   "execution_count": 22,
   "metadata": {
    "scrolled": true
   },
   "outputs": [
    {
     "data": {
      "text/html": [
       "<div>\n",
       "<style scoped>\n",
       "    .dataframe tbody tr th:only-of-type {\n",
       "        vertical-align: middle;\n",
       "    }\n",
       "\n",
       "    .dataframe tbody tr th {\n",
       "        vertical-align: top;\n",
       "    }\n",
       "\n",
       "    .dataframe thead th {\n",
       "        text-align: right;\n",
       "    }\n",
       "</style>\n",
       "<table border=\"1\" class=\"dataframe\">\n",
       "  <thead>\n",
       "    <tr style=\"text-align: right;\">\n",
       "      <th></th>\n",
       "      <th>KMeans</th>\n",
       "      <th>MiniBatchKMeans</th>\n",
       "      <th>Ward</th>\n",
       "      <th>AgglomerativeClustering</th>\n",
       "      <th>DBSCAN</th>\n",
       "    </tr>\n",
       "  </thead>\n",
       "  <tbody>\n",
       "    <tr>\n",
       "      <td>0</td>\n",
       "      <td>395.859</td>\n",
       "      <td>239.005</td>\n",
       "      <td>3499.02</td>\n",
       "      <td>3305.16</td>\n",
       "      <td>14475.5</td>\n",
       "    </tr>\n",
       "    <tr>\n",
       "      <td>1</td>\n",
       "      <td>[3, 1, 1, 3, 3, 2, 1, 2, 1, 1, 3, 2, 1, 1, 1, ...</td>\n",
       "      <td>[1, 1, 1, 1, 1, 2, 1, 1, 1, 1, 1, 2, 1, 1, 1, ...</td>\n",
       "      <td>[2, 0, 2, 0, 2, 0, 0, 0, 0, 0, 2, 0, 0, 0, 0, ...</td>\n",
       "      <td>[0, 0, 0, 0, 0, 0, 0, 0, 0, 0, 0, 0, 0, 0, 0, ...</td>\n",
       "      <td>[-1, -1, -1, -1, -1, -1, -1, -1, -1, -1, -1, -...</td>\n",
       "    </tr>\n",
       "    <tr>\n",
       "      <td>2</td>\n",
       "      <td>22865.4</td>\n",
       "      <td>23194.1</td>\n",
       "      <td>N/A</td>\n",
       "      <td>N/A</td>\n",
       "      <td>N/A</td>\n",
       "    </tr>\n",
       "    <tr>\n",
       "      <td>3</td>\n",
       "      <td>0.00525916</td>\n",
       "      <td>0.000292784</td>\n",
       "      <td>0.00226164</td>\n",
       "      <td>0.00416321</td>\n",
       "      <td>-0.0324436</td>\n",
       "    </tr>\n",
       "    <tr>\n",
       "      <td>4</td>\n",
       "      <td>4</td>\n",
       "      <td>4</td>\n",
       "      <td>4</td>\n",
       "      <td>4</td>\n",
       "      <td>45</td>\n",
       "    </tr>\n",
       "  </tbody>\n",
       "</table>\n",
       "</div>"
      ],
      "text/plain": [
       "                                              KMeans  \\\n",
       "0                                            395.859   \n",
       "1  [3, 1, 1, 3, 3, 2, 1, 2, 1, 1, 3, 2, 1, 1, 1, ...   \n",
       "2                                            22865.4   \n",
       "3                                         0.00525916   \n",
       "4                                                  4   \n",
       "\n",
       "                                     MiniBatchKMeans  \\\n",
       "0                                            239.005   \n",
       "1  [1, 1, 1, 1, 1, 2, 1, 1, 1, 1, 1, 2, 1, 1, 1, ...   \n",
       "2                                            23194.1   \n",
       "3                                        0.000292784   \n",
       "4                                                  4   \n",
       "\n",
       "                                                Ward  \\\n",
       "0                                            3499.02   \n",
       "1  [2, 0, 2, 0, 2, 0, 0, 0, 0, 0, 2, 0, 0, 0, 0, ...   \n",
       "2                                                N/A   \n",
       "3                                         0.00226164   \n",
       "4                                                  4   \n",
       "\n",
       "                             AgglomerativeClustering  \\\n",
       "0                                            3305.16   \n",
       "1  [0, 0, 0, 0, 0, 0, 0, 0, 0, 0, 0, 0, 0, 0, 0, ...   \n",
       "2                                                N/A   \n",
       "3                                         0.00416321   \n",
       "4                                                  4   \n",
       "\n",
       "                                              DBSCAN  \n",
       "0                                            14475.5  \n",
       "1  [-1, -1, -1, -1, -1, -1, -1, -1, -1, -1, -1, -...  \n",
       "2                                                N/A  \n",
       "3                                         -0.0324436  \n",
       "4                                                 45  "
      ]
     },
     "execution_count": 22,
     "metadata": {},
     "output_type": "execute_result"
    }
   ],
   "source": [
    "results_df"
   ]
  },
  {
   "cell_type": "code",
   "execution_count": 34,
   "metadata": {},
   "outputs": [],
   "source": [
    "results_df_MiniBatchKMeans = pd.DataFrame(list(results_df.MiniBatchKMeans[1]))\n",
    "results_df_MiniBatchKMeans[\"texts\"] = text\n",
    "results_df_MiniBatchKMeans[\"texts_raw\"] = text_raw\n",
    "results_df_MiniBatchKMeans.head(20)\n",
    "results_df_MiniBatchKMeans.to_csv(\"results_df_MiniBatchKMeans.csv\")"
   ]
  },
  {
   "cell_type": "code",
   "execution_count": 35,
   "metadata": {
    "scrolled": true
   },
   "outputs": [],
   "source": [
    "results_df_KMeans = pd.DataFrame(list(results_df.KMeans[1]))\n",
    "results_df_KMeans[\"texts\"] = text\n",
    "results_df_KMeans[\"texts_raw\"] = text_raw\n",
    "results_df_KMeans.head(20)\n",
    "results_df_KMeans.to_csv(\"results_df_KMeans.csv\")"
   ]
  },
  {
   "cell_type": "code",
   "execution_count": 36,
   "metadata": {},
   "outputs": [],
   "source": [
    "results_df_AgglomerativeClustering = pd.DataFrame(list(results_df.AgglomerativeClustering[1]))\n",
    "results_df_AgglomerativeClustering[\"texts\"] = text\n",
    "results_df_AgglomerativeClustering[\"texts_raw\"] = text_raw\n",
    "results_df_AgglomerativeClustering.head(20)\n",
    "results_df_AgglomerativeClustering.to_csv(\"results_df_AgglomerativeClustering.csv\")"
   ]
  },
  {
   "cell_type": "code",
   "execution_count": 38,
   "metadata": {},
   "outputs": [],
   "source": [
    "results_df_DBSCAN = pd.DataFrame(list(results_df.DBSCAN[1]))\n",
    "results_df_DBSCAN[\"texts\"] = text\n",
    "results_df_DBSCAN[\"texts_raw\"] = text_raw\n",
    "results_df_DBSCAN.head(20)\n",
    "results_df_DBSCAN.to_csv(\"results_df_DBSCAN.csv\")"
   ]
  },
  {
   "cell_type": "code",
   "execution_count": null,
   "metadata": {},
   "outputs": [],
   "source": []
  }
 ],
 "metadata": {
  "accelerator": "GPU",
  "colab": {
   "collapsed_sections": [],
   "name": "texts_decomp.ipynb",
   "provenance": []
  },
  "kernelspec": {
   "display_name": "Python 3",
   "language": "python",
   "name": "python3"
  },
  "language_info": {
   "codemirror_mode": {
    "name": "ipython",
    "version": 3
   },
   "file_extension": ".py",
   "mimetype": "text/x-python",
   "name": "python",
   "nbconvert_exporter": "python",
   "pygments_lexer": "ipython3",
   "version": "3.7.4"
  }
 },
 "nbformat": 4,
 "nbformat_minor": 1
}
